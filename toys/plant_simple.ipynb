{
 "cells": [
  {
   "cell_type": "code",
   "execution_count": 162,
   "metadata": {},
   "outputs": [],
   "source": [
    "using DataFrames\n",
    "using Plots"
   ]
  },
  {
   "cell_type": "code",
   "execution_count": 349,
   "metadata": {},
   "outputs": [
    {
     "data": {
      "text/plain": [
       "Dict{String, Float64} with 18 entries:\n",
       "  \"EK\"   => -75.0\n",
       "  \"gI\"   => 4.0\n",
       "  \"gK\"   => 0.3\n",
       "  \"gₕ\"   => 0.0\n",
       "  \"gL\"   => 0.003\n",
       "  \"Eₕ\"   => 70.0\n",
       "  \"EI\"   => 30.0\n",
       "  \"EL\"   => -40.0\n",
       "  \"Kc\"   => 0.0085\n",
       "  \"Δx\"   => 0.0\n",
       "  \"ΔCa\"  => 0.0\n",
       "  \"Δt\"   => 10.0\n",
       "  \"τ\"    => 100.0\n",
       "  \"ECa\"  => 140.0\n",
       "  \"gKCa\" => 0.03\n",
       "  \"ρ\"    => 0.0003\n",
       "  \"gT\"   => 0.01\n",
       "  \"Cₘ\"   => 1.0"
      ]
     },
     "execution_count": 349,
     "metadata": {},
     "output_type": "execute_result"
    }
   ],
   "source": [
    "θ = Dict(\n",
    "    \"Δt\"   => 10.0,\n",
    "    \"Cₘ\"   => 1.0,\n",
    "    \"gI\"   => 4.0,     # nS\n",
    "    \"gK\"   => 0.3,     # nS\n",
    "    \"gₕ\"   => 0.0,     # nS\n",
    "    \"gL\"   => 0.003,   # nS\n",
    "    \"gT\"   => 0.01,    # nS\n",
    "    \"gKCa\" => 0.03,    # nS\n",
    "    \"EI\"   => 30.0,    # mV\n",
    "    \"EK\"   => -75.0,   # mV\n",
    "    \"Eₕ\"   => 70.0,    # mV\n",
    "    \"EL\"   => -40.0,   # mV\n",
    "    \"ECa\"  => 140.0,   # mV\n",
    "    \"Kc\"   => 0.0085,  # mV⁻¹\n",
    "    \"τ\"    => 100.0,   # ms, 235ms also used\n",
    "    \"ρ\"    => 0.0003,  # ms⁻¹\n",
    "    \"Δx\"   => 0.0,     # mm\n",
    "    \"ΔCa\"  => 0.0      # ms\n",
    ")"
   ]
  },
  {
   "cell_type": "code",
   "execution_count": 350,
   "metadata": {},
   "outputs": [
    {
     "data": {
      "text/plain": [
       "Vₛ (generic function with 1 method)"
      ]
     },
     "execution_count": 350,
     "metadata": {},
     "output_type": "execute_result"
    }
   ],
   "source": [
    "Vₛ(V::Float64)::Float64 = (127.0 * V + 8265.0) / 105.0"
   ]
  },
  {
   "cell_type": "code",
   "execution_count": 351,
   "metadata": {},
   "outputs": [
    {
     "data": {
      "text/plain": [
       "II (generic function with 1 method)"
      ]
     },
     "execution_count": 351,
     "metadata": {},
     "output_type": "execute_result"
    }
   ],
   "source": [
    "function ɑₘ(V::Float64)::Float64\n",
    "    Vs = Vₛ(V)\n",
    "    0.1 * (50.0 - Vs)/(1.0 + exp((50-Vs) / 10.0))\n",
    "end\n",
    "\n",
    "βₘ(V::Float64)::Float64 = 4.0 * exp((25.0-Vₛ(V)) / 18.0)\n",
    "m∞(V::Float64)::Float64 = ɑₘ(V) / (ɑₘ(V) + βₘ(V))\n",
    "# Fast inward sodium and calcium current\n",
    "II(θ, h::Float64, V::Float64)::Float64 = θ[\"gI\"] * h * m∞(V)^3 * (V - θ[\"EI\"])"
   ]
  },
  {
   "cell_type": "code",
   "execution_count": 352,
   "metadata": {},
   "outputs": [
    {
     "data": {
      "text/plain": [
       "dh (generic function with 1 method)"
      ]
     },
     "execution_count": 352,
     "metadata": {},
     "output_type": "execute_result"
    }
   ],
   "source": [
    "ɑₕ(V::Float64)::Float64 = 0.07 * exp((25.0 - Vₛ(V)) / 20.0)\n",
    "βₕ(V::Float64)::Float64 = 1.0 / (1.0 + exp((55.0 - Vₛ(V)) / 10.0))\n",
    "h∞(V::Float64)::Float64 = ɑₕ(V) / (ɑₕ(V) + βₕ(V))\n",
    "τₕ(V::Float64)::Float64 = 12.5 / (ɑₕ(V) + βₕ(V))\n",
    "Iₕ(θ, y::Float64, V::Float64)::Float64 = θ[\"gₕ\"] * y * (V - θ[\"Eₕ\"]) / (1.0 + exp((63.0 - V) / 7.8))^3\n",
    "dh(h::Float64, V::Float64)::Float64 = (h∞(V) - h) / τₕ(V)"
   ]
  },
  {
   "cell_type": "code",
   "execution_count": 353,
   "metadata": {},
   "outputs": [
    {
     "data": {
      "text/plain": [
       "dn (generic function with 1 method)"
      ]
     },
     "execution_count": 353,
     "metadata": {},
     "output_type": "execute_result"
    }
   ],
   "source": [
    "function ɑₙ(V::Float64)::Float64\n",
    "    Vs = Vₛ(V)\n",
    "    0.01 * (55.0 - Vs) / (exp((55.0 - Vs) / 10.0) - 1.0)\n",
    "end\n",
    "\n",
    "βₙ(V::Float64)::Float64 = 0.125 * exp((45.0 - Vₛ(V)) / 80.0)\n",
    "n∞(V::Float64)::Float64 = ɑₙ(V) / (ɑₙ(V) + βₙ(V))\n",
    "τₙ(V::Float64)::Float64 = 12.5 / (ɑₙ(V) + βₙ(V))\n",
    "IK(θ, n::Float64, V::Float64)::Float64 = θ[\"gK\"] * n^4 * (V - θ[\"EK\"])\n",
    "dn(θ, n::Float64, V::Float64)::Float64 = (n∞(V) - n) / τₙ(V)"
   ]
  },
  {
   "cell_type": "code",
   "execution_count": 354,
   "metadata": {},
   "outputs": [
    {
     "data": {
      "text/plain": [
       "IT (generic function with 1 method)"
      ]
     },
     "execution_count": 354,
     "metadata": {},
     "output_type": "execute_result"
    }
   ],
   "source": [
    "IT(θ, x::Float64, V::Float64)::Float64 = θ[\"gT\"] * x * (V - θ[\"EI\"])"
   ]
  },
  {
   "cell_type": "code",
   "execution_count": 355,
   "metadata": {},
   "outputs": [
    {
     "data": {
      "text/plain": [
       "dx (generic function with 1 method)"
      ]
     },
     "execution_count": 355,
     "metadata": {},
     "output_type": "execute_result"
    }
   ],
   "source": [
    "IT(θ, x::Float64, V::Float64)::Float64 = θ[\"gT\"] * x * (V - θ[\"EI\"])\n",
    "x∞(θ, V::Float64)::Float64 = 1.0 / (1.0 + exp(0.15 * (θ[\"Δx\"] - V - 50)))\n",
    "dx(θ, x::Float64, V::Float64)::Float64 = (x∞(θ, V) - x) / θ[\"τ\"]"
   ]
  },
  {
   "cell_type": "code",
   "execution_count": 356,
   "metadata": {},
   "outputs": [
    {
     "data": {
      "text/plain": [
       "dy (generic function with 1 method)"
      ]
     },
     "execution_count": 356,
     "metadata": {},
     "output_type": "execute_result"
    }
   ],
   "source": [
    "dy(θ, y::Float64, V::Float64)::Float64 = (1 / (1 + exp(10 * (V - 50))) - y) / (14.2 + 20.8 / (1 + exp((V + 68.0) / 2.2)))"
   ]
  },
  {
   "cell_type": "code",
   "execution_count": 357,
   "metadata": {},
   "outputs": [
    {
     "data": {
      "text/plain": [
       "Iₗₑₐₖ (generic function with 1 method)"
      ]
     },
     "execution_count": 357,
     "metadata": {},
     "output_type": "execute_result"
    }
   ],
   "source": [
    "Iₗₑₐₖ(θ, V::Float64)::Float64 = θ[\"gL\"] * (V - θ[\"EL\"])"
   ]
  },
  {
   "cell_type": "code",
   "execution_count": 358,
   "metadata": {},
   "outputs": [
    {
     "data": {
      "text/plain": [
       "dCa (generic function with 1 method)"
      ]
     },
     "execution_count": 358,
     "metadata": {},
     "output_type": "execute_result"
    }
   ],
   "source": [
    "IKCa(θ, Ca::Float64, V::Float64)::Float64 = θ[\"gKCa\"] * Ca * (V - θ[\"EK\"]) / (0.5 + Ca)\n",
    "dCa(θ, Ca::Float64, x::Float64, V::Float64)::Float64 = θ[\"ρ\"] * (θ[\"Kc\"] * x * (θ[\"ECa\"] - V + θ[\"ΔCa\"]) - Ca)"
   ]
  },
  {
   "cell_type": "code",
   "execution_count": 359,
   "metadata": {},
   "outputs": [
    {
     "data": {
      "text/plain": [
       "dV (generic function with 1 method)"
      ]
     },
     "execution_count": 359,
     "metadata": {},
     "output_type": "execute_result"
    }
   ],
   "source": [
    "function dV(θ, x::Float64, y::Float64, n::Float64, h::Float64, Ca::Float64, V::Float64, Isyn::Float64)::Float64\n",
    "    -(II(θ, h, V) + IK(θ, n, V) + IT(θ, x, V) + IKCa(θ, Ca, V) + Iₕ(θ, y, V) + Iₗₑₐₖ(θ, V) + Isyn) / θ[\"Cₘ\"]\n",
    "end"
   ]
  },
  {
   "cell_type": "code",
   "execution_count": 362,
   "metadata": {},
   "outputs": [
    {
     "data": {
      "text/plain": [
       "Dict{String, Float64} with 7 entries:\n",
       "  \"n\"    => 0.137\n",
       "  \"x\"    => 0.7\n",
       "  \"V\"    => -75.0\n",
       "  \"Ca\"   => 0.8\n",
       "  \"Isyn\" => 0.0\n",
       "  \"h\"    => 0.389\n",
       "  \"y\"    => 5.472e-46"
      ]
     },
     "execution_count": 362,
     "metadata": {},
     "output_type": "execute_result"
    }
   ],
   "source": [
    "state = Dict(\n",
    "    \"x\"    => 0.7,\n",
    "    \"y\"    => 5.472e-46,\n",
    "    \"n\"    => 0.137,\n",
    "    \"h\"    => 0.389,\n",
    "    \"Ca\"   => 0.8,\n",
    "    \"V\"    => -75.0,\n",
    "    \"Isyn\" => 0.0\n",
    ")"
   ]
  },
  {
   "cell_type": "code",
   "execution_count": 361,
   "metadata": {},
   "outputs": [
    {
     "data": {
      "text/plain": [
       "next_state (generic function with 1 method)"
      ]
     },
     "execution_count": 361,
     "metadata": {},
     "output_type": "execute_result"
    }
   ],
   "source": [
    "function next_state(θ, state)\n",
    "    Dict(\n",
    "        \"x\"    => state[\"x\"] + θ[\"Δt\"] * dx(θ, state[\"x\"], state[\"V\"]),\n",
    "        \"y\"    => state[\"y\"] + θ[\"Δt\"] * dy(θ, state[\"y\"], state[\"V\"]),\n",
    "        \"n\"    => state[\"n\"] + θ[\"Δt\"] * dn(θ, state[\"n\"], state[\"V\"]),\n",
    "        \"h\"    => state[\"h\"] + θ[\"Δt\"] * dh(state[\"h\"], state[\"V\"]),\n",
    "        \"Ca\"   => state[\"Ca\"] + θ[\"Δt\"] * dCa(θ, state[\"Ca\"], state[\"x\"], state[\"V\"]),\n",
    "        \"V\"    => state[\"V\"] + θ[\"Δt\"] * dV(θ, state[\"x\"], state[\"y\"], state[\"n\"], state[\"h\"], state[\"Ca\"], state[\"V\"], state[\"Isyn\"]),\n",
    "        \"Isyn\" => state[\"Isyn\"]\n",
    "    )\n",
    "end"
   ]
  },
  {
   "cell_type": "code",
   "execution_count": 344,
   "metadata": {},
   "outputs": [
    {
     "data": {
      "text/plain": [
       "Dict{String, Float64} with 7 entries:\n",
       "  \"n\"    => 0.729954\n",
       "  \"x\"    => 0.816297\n",
       "  \"V\"    => -70.6915\n",
       "  \"Ca\"   => 0.500776\n",
       "  \"Isyn\" => 0.0\n",
       "  \"h\"    => 0.336714\n",
       "  \"y\"    => 0.672256"
      ]
     },
     "execution_count": 344,
     "metadata": {},
     "output_type": "execute_result"
    }
   ],
   "source": [
    "next_state(θ, state)"
   ]
  },
  {
   "cell_type": "code",
   "execution_count": 348,
   "metadata": {},
   "outputs": [
    {
     "data": {
      "image/svg+xml": "<?xml version=\"1.0\" encoding=\"utf-8\"?>\n<svg xmlns=\"http://www.w3.org/2000/svg\" xmlns:xlink=\"http://www.w3.org/1999/xlink\" width=\"600\" height=\"400\" viewBox=\"0 0 2400 1600\">\n<defs>\n  <clipPath id=\"clip300\">\n    <rect x=\"0\" y=\"0\" width=\"2400\" height=\"1600\"/>\n  </clipPath>\n</defs>\n<path clip-path=\"url(#clip300)\" d=\"\nM0 1600 L2400 1600 L2400 0 L0 0  Z\n  \" fill=\"#ffffff\" fill-rule=\"evenodd\" fill-opacity=\"1\"/>\n<defs>\n  <clipPath id=\"clip301\">\n    <rect x=\"480\" y=\"0\" width=\"1681\" height=\"1600\"/>\n  </clipPath>\n</defs>\n<path clip-path=\"url(#clip300)\" d=\"\nM217.783 1423.18 L2352.76 1423.18 L2352.76 47.2441 L217.783 47.2441  Z\n  \" fill=\"#ffffff\" fill-rule=\"evenodd\" fill-opacity=\"1\"/>\n<defs>\n  <clipPath id=\"clip302\">\n    <rect x=\"217\" y=\"47\" width=\"2136\" height=\"1377\"/>\n  </clipPath>\n</defs>\n<polyline clip-path=\"url(#clip302)\" style=\"stroke:#000000; stroke-linecap:round; stroke-linejoin:round; stroke-width:2; stroke-opacity:0.1; fill:none\" points=\"\n  619.671,1423.18 619.671,47.2441 \n  \"/>\n<polyline clip-path=\"url(#clip302)\" style=\"stroke:#000000; stroke-linecap:round; stroke-linejoin:round; stroke-width:2; stroke-opacity:0.1; fill:none\" points=\"\n  1022.5,1423.18 1022.5,47.2441 \n  \"/>\n<polyline clip-path=\"url(#clip302)\" style=\"stroke:#000000; stroke-linecap:round; stroke-linejoin:round; stroke-width:2; stroke-opacity:0.1; fill:none\" points=\"\n  1425.32,1423.18 1425.32,47.2441 \n  \"/>\n<polyline clip-path=\"url(#clip302)\" style=\"stroke:#000000; stroke-linecap:round; stroke-linejoin:round; stroke-width:2; stroke-opacity:0.1; fill:none\" points=\"\n  1828.15,1423.18 1828.15,47.2441 \n  \"/>\n<polyline clip-path=\"url(#clip302)\" style=\"stroke:#000000; stroke-linecap:round; stroke-linejoin:round; stroke-width:2; stroke-opacity:0.1; fill:none\" points=\"\n  2230.97,1423.18 2230.97,47.2441 \n  \"/>\n<polyline clip-path=\"url(#clip300)\" style=\"stroke:#000000; stroke-linecap:round; stroke-linejoin:round; stroke-width:4; stroke-opacity:1; fill:none\" points=\"\n  217.783,1423.18 2352.76,1423.18 \n  \"/>\n<polyline clip-path=\"url(#clip300)\" style=\"stroke:#000000; stroke-linecap:round; stroke-linejoin:round; stroke-width:4; stroke-opacity:1; fill:none\" points=\"\n  619.671,1423.18 619.671,1404.28 \n  \"/>\n<polyline clip-path=\"url(#clip300)\" style=\"stroke:#000000; stroke-linecap:round; stroke-linejoin:round; stroke-width:4; stroke-opacity:1; fill:none\" points=\"\n  1022.5,1423.18 1022.5,1404.28 \n  \"/>\n<polyline clip-path=\"url(#clip300)\" style=\"stroke:#000000; stroke-linecap:round; stroke-linejoin:round; stroke-width:4; stroke-opacity:1; fill:none\" points=\"\n  1425.32,1423.18 1425.32,1404.28 \n  \"/>\n<polyline clip-path=\"url(#clip300)\" style=\"stroke:#000000; stroke-linecap:round; stroke-linejoin:round; stroke-width:4; stroke-opacity:1; fill:none\" points=\"\n  1828.15,1423.18 1828.15,1404.28 \n  \"/>\n<polyline clip-path=\"url(#clip300)\" style=\"stroke:#000000; stroke-linecap:round; stroke-linejoin:round; stroke-width:4; stroke-opacity:1; fill:none\" points=\"\n  2230.97,1423.18 2230.97,1404.28 \n  \"/>\n<path clip-path=\"url(#clip300)\" d=\"M586.824 1481.64 L594.463 1481.64 L594.463 1455.28 L586.153 1456.95 L586.153 1452.69 L594.417 1451.02 L599.093 1451.02 L599.093 1481.64 L606.731 1481.64 L606.731 1485.58 L586.824 1485.58 L586.824 1481.64 Z\" fill=\"#000000\" fill-rule=\"evenodd\" fill-opacity=\"1\" /><path clip-path=\"url(#clip300)\" d=\"M616.176 1479.7 L621.06 1479.7 L621.06 1485.58 L616.176 1485.58 L616.176 1479.7 Z\" fill=\"#000000\" fill-rule=\"evenodd\" fill-opacity=\"1\" /><path clip-path=\"url(#clip300)\" d=\"M641.245 1454.1 Q637.634 1454.1 635.805 1457.66 Q634 1461.2 634 1468.33 Q634 1475.44 635.805 1479.01 Q637.634 1482.55 641.245 1482.55 Q644.879 1482.55 646.685 1479.01 Q648.514 1475.44 648.514 1468.33 Q648.514 1461.2 646.685 1457.66 Q644.879 1454.1 641.245 1454.1 M641.245 1450.39 Q647.055 1450.39 650.111 1455 Q653.189 1459.58 653.189 1468.33 Q653.189 1477.06 650.111 1481.67 Q647.055 1486.25 641.245 1486.25 Q635.435 1486.25 632.356 1481.67 Q629.301 1477.06 629.301 1468.33 Q629.301 1459.58 632.356 1455 Q635.435 1450.39 641.245 1450.39 Z\" fill=\"#000000\" fill-rule=\"evenodd\" fill-opacity=\"1\" /><path clip-path=\"url(#clip300)\" d=\"M990.448 1481.64 L998.087 1481.64 L998.087 1455.28 L989.776 1456.95 L989.776 1452.69 L998.04 1451.02 L1002.72 1451.02 L1002.72 1481.64 L1010.36 1481.64 L1010.36 1485.58 L990.448 1485.58 L990.448 1481.64 Z\" fill=\"#000000\" fill-rule=\"evenodd\" fill-opacity=\"1\" /><path clip-path=\"url(#clip300)\" d=\"M1019.8 1479.7 L1024.68 1479.7 L1024.68 1485.58 L1019.8 1485.58 L1019.8 1479.7 Z\" fill=\"#000000\" fill-rule=\"evenodd\" fill-opacity=\"1\" /><path clip-path=\"url(#clip300)\" d=\"M1038.9 1481.64 L1055.22 1481.64 L1055.22 1485.58 L1033.27 1485.58 L1033.27 1481.64 Q1035.93 1478.89 1040.52 1474.26 Q1045.12 1469.61 1046.3 1468.27 Q1048.55 1465.74 1049.43 1464.01 Q1050.33 1462.25 1050.33 1460.56 Q1050.33 1457.8 1048.39 1456.07 Q1046.47 1454.33 1043.36 1454.33 Q1041.17 1454.33 1038.71 1455.09 Q1036.28 1455.86 1033.5 1457.41 L1033.5 1452.69 Q1036.33 1451.55 1038.78 1450.97 Q1041.23 1450.39 1043.27 1450.39 Q1048.64 1450.39 1051.84 1453.08 Q1055.03 1455.77 1055.03 1460.26 Q1055.03 1462.39 1054.22 1464.31 Q1053.43 1466.2 1051.33 1468.8 Q1050.75 1469.47 1047.65 1472.69 Q1044.54 1475.88 1038.9 1481.64 Z\" fill=\"#000000\" fill-rule=\"evenodd\" fill-opacity=\"1\" /><path clip-path=\"url(#clip300)\" d=\"M1392.23 1481.64 L1399.87 1481.64 L1399.87 1455.28 L1391.56 1456.95 L1391.56 1452.69 L1399.82 1451.02 L1404.5 1451.02 L1404.5 1481.64 L1412.14 1481.64 L1412.14 1485.58 L1392.23 1485.58 L1392.23 1481.64 Z\" fill=\"#000000\" fill-rule=\"evenodd\" fill-opacity=\"1\" /><path clip-path=\"url(#clip300)\" d=\"M1421.58 1479.7 L1426.47 1479.7 L1426.47 1485.58 L1421.58 1485.58 L1421.58 1479.7 Z\" fill=\"#000000\" fill-rule=\"evenodd\" fill-opacity=\"1\" /><path clip-path=\"url(#clip300)\" d=\"M1449.5 1455.09 L1437.69 1473.54 L1449.5 1473.54 L1449.5 1455.09 M1448.27 1451.02 L1454.15 1451.02 L1454.15 1473.54 L1459.08 1473.54 L1459.08 1477.43 L1454.15 1477.43 L1454.15 1485.58 L1449.5 1485.58 L1449.5 1477.43 L1433.9 1477.43 L1433.9 1472.92 L1448.27 1451.02 Z\" fill=\"#000000\" fill-rule=\"evenodd\" fill-opacity=\"1\" /><path clip-path=\"url(#clip300)\" d=\"M1795.22 1481.64 L1802.86 1481.64 L1802.86 1455.28 L1794.55 1456.95 L1794.55 1452.69 L1802.81 1451.02 L1807.49 1451.02 L1807.49 1481.64 L1815.13 1481.64 L1815.13 1485.58 L1795.22 1485.58 L1795.22 1481.64 Z\" fill=\"#000000\" fill-rule=\"evenodd\" fill-opacity=\"1\" /><path clip-path=\"url(#clip300)\" d=\"M1824.57 1479.7 L1829.45 1479.7 L1829.45 1485.58 L1824.57 1485.58 L1824.57 1479.7 Z\" fill=\"#000000\" fill-rule=\"evenodd\" fill-opacity=\"1\" /><path clip-path=\"url(#clip300)\" d=\"M1850.22 1466.44 Q1847.07 1466.44 1845.22 1468.59 Q1843.39 1470.74 1843.39 1474.49 Q1843.39 1478.22 1845.22 1480.39 Q1847.07 1482.55 1850.22 1482.55 Q1853.37 1482.55 1855.19 1480.39 Q1857.05 1478.22 1857.05 1474.49 Q1857.05 1470.74 1855.19 1468.59 Q1853.37 1466.44 1850.22 1466.44 M1859.5 1451.78 L1859.5 1456.04 Q1857.74 1455.21 1855.94 1454.77 Q1854.15 1454.33 1852.39 1454.33 Q1847.76 1454.33 1845.31 1457.45 Q1842.88 1460.58 1842.53 1466.9 Q1843.9 1464.89 1845.96 1463.82 Q1848.02 1462.73 1850.5 1462.73 Q1855.7 1462.73 1858.71 1465.9 Q1861.75 1469.05 1861.75 1474.49 Q1861.75 1479.82 1858.6 1483.03 Q1855.45 1486.25 1850.22 1486.25 Q1844.22 1486.25 1841.05 1481.67 Q1837.88 1477.06 1837.88 1468.33 Q1837.88 1460.14 1841.77 1455.28 Q1845.66 1450.39 1852.21 1450.39 Q1853.97 1450.39 1855.75 1450.74 Q1857.56 1451.09 1859.5 1451.78 Z\" fill=\"#000000\" fill-rule=\"evenodd\" fill-opacity=\"1\" /><path clip-path=\"url(#clip300)\" d=\"M2198.17 1481.64 L2205.81 1481.64 L2205.81 1455.28 L2197.5 1456.95 L2197.5 1452.69 L2205.76 1451.02 L2210.44 1451.02 L2210.44 1481.64 L2218.08 1481.64 L2218.08 1485.58 L2198.17 1485.58 L2198.17 1481.64 Z\" fill=\"#000000\" fill-rule=\"evenodd\" fill-opacity=\"1\" /><path clip-path=\"url(#clip300)\" d=\"M2227.52 1479.7 L2232.41 1479.7 L2232.41 1485.58 L2227.52 1485.58 L2227.52 1479.7 Z\" fill=\"#000000\" fill-rule=\"evenodd\" fill-opacity=\"1\" /><path clip-path=\"url(#clip300)\" d=\"M2252.59 1469.17 Q2249.26 1469.17 2247.34 1470.95 Q2245.44 1472.73 2245.44 1475.86 Q2245.44 1478.98 2247.34 1480.77 Q2249.26 1482.55 2252.59 1482.55 Q2255.93 1482.55 2257.85 1480.77 Q2259.77 1478.96 2259.77 1475.86 Q2259.77 1472.73 2257.85 1470.95 Q2255.95 1469.17 2252.59 1469.17 M2247.92 1467.18 Q2244.91 1466.44 2243.22 1464.38 Q2241.55 1462.32 2241.55 1459.35 Q2241.55 1455.21 2244.49 1452.8 Q2247.45 1450.39 2252.59 1450.39 Q2257.75 1450.39 2260.69 1452.8 Q2263.63 1455.21 2263.63 1459.35 Q2263.63 1462.32 2261.94 1464.38 Q2260.28 1466.44 2257.29 1467.18 Q2260.67 1467.96 2262.55 1470.26 Q2264.44 1472.55 2264.44 1475.86 Q2264.44 1480.88 2261.36 1483.57 Q2258.31 1486.25 2252.59 1486.25 Q2246.87 1486.25 2243.8 1483.57 Q2240.74 1480.88 2240.74 1475.86 Q2240.74 1472.55 2242.64 1470.26 Q2244.54 1467.96 2247.92 1467.18 M2246.2 1459.79 Q2246.2 1462.48 2247.87 1463.98 Q2249.56 1465.49 2252.59 1465.49 Q2255.6 1465.49 2257.29 1463.98 Q2259 1462.48 2259 1459.79 Q2259 1457.11 2257.29 1455.6 Q2255.6 1454.1 2252.59 1454.1 Q2249.56 1454.1 2247.87 1455.6 Q2246.2 1457.11 2246.2 1459.79 Z\" fill=\"#000000\" fill-rule=\"evenodd\" fill-opacity=\"1\" /><path clip-path=\"url(#clip300)\" d=\"M1266.78 1526.86 L1253.73 1562.7 L1279.86 1562.7 L1266.78 1526.86 M1245.01 1568.04 L1263.15 1520.52 L1270.44 1520.52 L1288.55 1568.04 L1245.01 1568.04 Z\" fill=\"#000000\" fill-rule=\"evenodd\" fill-opacity=\"1\" /><path clip-path=\"url(#clip300)\" d=\"M1324.86 1532.4 L1311.97 1549.74 L1325.53 1568.04 L1318.63 1568.04 L1308.25 1554.04 L1297.87 1568.04 L1290.97 1568.04 L1304.81 1549.39 L1292.14 1532.4 L1299.05 1532.4 L1308.5 1545.1 L1317.96 1532.4 L1324.86 1532.4 Z\" fill=\"#000000\" fill-rule=\"evenodd\" fill-opacity=\"1\" /><polyline clip-path=\"url(#clip302)\" style=\"stroke:#000000; stroke-linecap:round; stroke-linejoin:round; stroke-width:2; stroke-opacity:0.1; fill:none\" points=\"\n  217.783,1173.85 2352.76,1173.85 \n  \"/>\n<polyline clip-path=\"url(#clip302)\" style=\"stroke:#000000; stroke-linecap:round; stroke-linejoin:round; stroke-width:2; stroke-opacity:0.1; fill:none\" points=\"\n  217.783,914.243 2352.76,914.243 \n  \"/>\n<polyline clip-path=\"url(#clip302)\" style=\"stroke:#000000; stroke-linecap:round; stroke-linejoin:round; stroke-width:2; stroke-opacity:0.1; fill:none\" points=\"\n  217.783,654.633 2352.76,654.633 \n  \"/>\n<polyline clip-path=\"url(#clip302)\" style=\"stroke:#000000; stroke-linecap:round; stroke-linejoin:round; stroke-width:2; stroke-opacity:0.1; fill:none\" points=\"\n  217.783,395.022 2352.76,395.022 \n  \"/>\n<polyline clip-path=\"url(#clip302)\" style=\"stroke:#000000; stroke-linecap:round; stroke-linejoin:round; stroke-width:2; stroke-opacity:0.1; fill:none\" points=\"\n  217.783,135.412 2352.76,135.412 \n  \"/>\n<polyline clip-path=\"url(#clip300)\" style=\"stroke:#000000; stroke-linecap:round; stroke-linejoin:round; stroke-width:4; stroke-opacity:1; fill:none\" points=\"\n  217.783,1423.18 217.783,47.2441 \n  \"/>\n<polyline clip-path=\"url(#clip300)\" style=\"stroke:#000000; stroke-linecap:round; stroke-linejoin:round; stroke-width:4; stroke-opacity:1; fill:none\" points=\"\n  217.783,1173.85 236.681,1173.85 \n  \"/>\n<polyline clip-path=\"url(#clip300)\" style=\"stroke:#000000; stroke-linecap:round; stroke-linejoin:round; stroke-width:4; stroke-opacity:1; fill:none\" points=\"\n  217.783,914.243 236.681,914.243 \n  \"/>\n<polyline clip-path=\"url(#clip300)\" style=\"stroke:#000000; stroke-linecap:round; stroke-linejoin:round; stroke-width:4; stroke-opacity:1; fill:none\" points=\"\n  217.783,654.633 236.681,654.633 \n  \"/>\n<polyline clip-path=\"url(#clip300)\" style=\"stroke:#000000; stroke-linecap:round; stroke-linejoin:round; stroke-width:4; stroke-opacity:1; fill:none\" points=\"\n  217.783,395.022 236.681,395.022 \n  \"/>\n<polyline clip-path=\"url(#clip300)\" style=\"stroke:#000000; stroke-linecap:round; stroke-linejoin:round; stroke-width:4; stroke-opacity:1; fill:none\" points=\"\n  217.783,135.412 236.681,135.412 \n  \"/>\n<path clip-path=\"url(#clip300)\" d=\"M115.418 1187.2 L123.056 1187.2 L123.056 1160.83 L114.746 1162.5 L114.746 1158.24 L123.01 1156.57 L127.686 1156.57 L127.686 1187.2 L135.325 1187.2 L135.325 1191.13 L115.418 1191.13 L115.418 1187.2 Z\" fill=\"#000000\" fill-rule=\"evenodd\" fill-opacity=\"1\" /><path clip-path=\"url(#clip300)\" d=\"M144.769 1185.25 L149.653 1185.25 L149.653 1191.13 L144.769 1191.13 L144.769 1185.25 Z\" fill=\"#000000\" fill-rule=\"evenodd\" fill-opacity=\"1\" /><path clip-path=\"url(#clip300)\" d=\"M169.839 1159.65 Q166.227 1159.65 164.399 1163.22 Q162.593 1166.76 162.593 1173.89 Q162.593 1181 164.399 1184.56 Q166.227 1188.1 169.839 1188.1 Q173.473 1188.1 175.278 1184.56 Q177.107 1181 177.107 1173.89 Q177.107 1166.76 175.278 1163.22 Q173.473 1159.65 169.839 1159.65 M169.839 1155.95 Q175.649 1155.95 178.704 1160.56 Q181.783 1165.14 181.783 1173.89 Q181.783 1182.62 178.704 1187.22 Q175.649 1191.81 169.839 1191.81 Q164.028 1191.81 160.95 1187.22 Q157.894 1182.62 157.894 1173.89 Q157.894 1165.14 160.95 1160.56 Q164.028 1155.95 169.839 1155.95 Z\" fill=\"#000000\" fill-rule=\"evenodd\" fill-opacity=\"1\" /><path clip-path=\"url(#clip300)\" d=\"M117.015 927.588 L124.654 927.588 L124.654 901.223 L116.343 902.889 L116.343 898.63 L124.607 896.963 L129.283 896.963 L129.283 927.588 L136.922 927.588 L136.922 931.523 L117.015 931.523 L117.015 927.588 Z\" fill=\"#000000\" fill-rule=\"evenodd\" fill-opacity=\"1\" /><path clip-path=\"url(#clip300)\" d=\"M146.366 925.644 L151.251 925.644 L151.251 931.523 L146.366 931.523 L146.366 925.644 Z\" fill=\"#000000\" fill-rule=\"evenodd\" fill-opacity=\"1\" /><path clip-path=\"url(#clip300)\" d=\"M165.464 927.588 L181.783 927.588 L181.783 931.523 L159.839 931.523 L159.839 927.588 Q162.501 924.834 167.084 920.204 Q171.69 915.551 172.871 914.209 Q175.116 911.686 175.996 909.949 Q176.899 908.19 176.899 906.5 Q176.899 903.746 174.954 902.01 Q173.033 900.274 169.931 900.274 Q167.732 900.274 165.278 901.037 Q162.848 901.801 160.07 903.352 L160.07 898.63 Q162.894 897.496 165.348 896.917 Q167.802 896.338 169.839 896.338 Q175.209 896.338 178.403 899.024 Q181.598 901.709 181.598 906.199 Q181.598 908.329 180.788 910.25 Q180.001 912.148 177.894 914.741 Q177.315 915.412 174.214 918.63 Q171.112 921.824 165.464 927.588 Z\" fill=\"#000000\" fill-rule=\"evenodd\" fill-opacity=\"1\" /><path clip-path=\"url(#clip300)\" d=\"M114.931 667.978 L122.57 667.978 L122.57 641.612 L114.26 643.279 L114.26 639.02 L122.524 637.353 L127.2 637.353 L127.2 667.978 L134.839 667.978 L134.839 671.913 L114.931 671.913 L114.931 667.978 Z\" fill=\"#000000\" fill-rule=\"evenodd\" fill-opacity=\"1\" /><path clip-path=\"url(#clip300)\" d=\"M144.283 666.033 L149.167 666.033 L149.167 671.913 L144.283 671.913 L144.283 666.033 Z\" fill=\"#000000\" fill-rule=\"evenodd\" fill-opacity=\"1\" /><path clip-path=\"url(#clip300)\" d=\"M172.2 641.427 L160.394 659.876 L172.2 659.876 L172.2 641.427 M170.973 637.353 L176.852 637.353 L176.852 659.876 L181.783 659.876 L181.783 663.765 L176.852 663.765 L176.852 671.913 L172.2 671.913 L172.2 663.765 L156.598 663.765 L156.598 659.251 L170.973 637.353 Z\" fill=\"#000000\" fill-rule=\"evenodd\" fill-opacity=\"1\" /><path clip-path=\"url(#clip300)\" d=\"M115.256 408.367 L122.894 408.367 L122.894 382.002 L114.584 383.668 L114.584 379.409 L122.848 377.742 L127.524 377.742 L127.524 408.367 L135.163 408.367 L135.163 412.302 L115.256 412.302 L115.256 408.367 Z\" fill=\"#000000\" fill-rule=\"evenodd\" fill-opacity=\"1\" /><path clip-path=\"url(#clip300)\" d=\"M144.607 406.423 L149.491 406.423 L149.491 412.302 L144.607 412.302 L144.607 406.423 Z\" fill=\"#000000\" fill-rule=\"evenodd\" fill-opacity=\"1\" /><path clip-path=\"url(#clip300)\" d=\"M170.255 393.159 Q167.107 393.159 165.255 395.312 Q163.427 397.464 163.427 401.214 Q163.427 404.941 165.255 407.117 Q167.107 409.27 170.255 409.27 Q173.403 409.27 175.232 407.117 Q177.084 404.941 177.084 401.214 Q177.084 397.464 175.232 395.312 Q173.403 393.159 170.255 393.159 M179.538 378.506 L179.538 382.765 Q177.778 381.932 175.973 381.492 Q174.19 381.053 172.431 381.053 Q167.802 381.053 165.348 384.177 Q162.917 387.302 162.57 393.622 Q163.936 391.608 165.996 390.543 Q168.056 389.455 170.533 389.455 Q175.741 389.455 178.751 392.627 Q181.783 395.775 181.783 401.214 Q181.783 406.538 178.635 409.756 Q175.487 412.974 170.255 412.974 Q164.26 412.974 161.089 408.39 Q157.917 403.784 157.917 395.057 Q157.917 386.863 161.806 382.002 Q165.695 377.117 172.246 377.117 Q174.005 377.117 175.788 377.465 Q177.593 377.812 179.538 378.506 Z\" fill=\"#000000\" fill-rule=\"evenodd\" fill-opacity=\"1\" /><path clip-path=\"url(#clip300)\" d=\"M115.51 148.757 L123.149 148.757 L123.149 122.391 L114.839 124.058 L114.839 119.798 L123.103 118.132 L127.779 118.132 L127.779 148.757 L135.417 148.757 L135.417 152.692 L115.51 152.692 L115.51 148.757 Z\" fill=\"#000000\" fill-rule=\"evenodd\" fill-opacity=\"1\" /><path clip-path=\"url(#clip300)\" d=\"M144.862 146.812 L149.746 146.812 L149.746 152.692 L144.862 152.692 L144.862 146.812 Z\" fill=\"#000000\" fill-rule=\"evenodd\" fill-opacity=\"1\" /><path clip-path=\"url(#clip300)\" d=\"M169.931 136.28 Q166.598 136.28 164.677 138.062 Q162.778 139.845 162.778 142.97 Q162.778 146.095 164.677 147.877 Q166.598 149.659 169.931 149.659 Q173.264 149.659 175.186 147.877 Q177.107 146.071 177.107 142.97 Q177.107 139.845 175.186 138.062 Q173.288 136.28 169.931 136.28 M165.255 134.289 Q162.246 133.548 160.556 131.488 Q158.89 129.428 158.89 126.465 Q158.89 122.322 161.829 119.914 Q164.792 117.507 169.931 117.507 Q175.093 117.507 178.033 119.914 Q180.973 122.322 180.973 126.465 Q180.973 129.428 179.283 131.488 Q177.616 133.548 174.63 134.289 Q178.01 135.076 179.885 137.368 Q181.783 139.659 181.783 142.97 Q181.783 147.993 178.704 150.678 Q175.649 153.363 169.931 153.363 Q164.214 153.363 161.135 150.678 Q158.079 147.993 158.079 142.97 Q158.079 139.659 159.978 137.368 Q161.876 135.076 165.255 134.289 M163.542 126.905 Q163.542 129.59 165.209 131.095 Q166.899 132.599 169.931 132.599 Q172.94 132.599 174.63 131.095 Q176.343 129.59 176.343 126.905 Q176.343 124.22 174.63 122.715 Q172.94 121.211 169.931 121.211 Q166.899 121.211 165.209 122.715 Q163.542 124.22 163.542 126.905 Z\" fill=\"#000000\" fill-rule=\"evenodd\" fill-opacity=\"1\" /><path clip-path=\"url(#clip300)\" d=\"M22.818 775.252 L58.657 788.302 L58.657 762.171 L22.818 775.252 M64.0042 797.023 L16.4842 778.881 L16.4842 771.592 L64.0042 753.482 L64.0042 797.023 Z\" fill=\"#000000\" fill-rule=\"evenodd\" fill-opacity=\"1\" /><path clip-path=\"url(#clip300)\" d=\"M20.1444 710.959 L26.9239 710.959 Q23.9002 714.205 22.4043 717.897 Q20.9083 721.558 20.9083 725.695 Q20.9083 733.843 25.9054 738.172 Q30.8707 742.501 40.2919 742.501 Q49.6813 742.501 54.6784 738.172 Q59.6436 733.843 59.6436 725.695 Q59.6436 721.558 58.1477 717.897 Q56.6518 714.205 53.6281 710.959 L60.3439 710.959 Q62.6355 714.332 63.7814 718.12 Q64.9272 721.876 64.9272 726.077 Q64.9272 736.867 58.3387 743.074 Q51.7183 749.28 40.2919 749.28 Q28.8336 749.28 22.2451 743.074 Q15.6248 736.867 15.6248 726.077 Q15.6248 721.812 16.7706 718.056 Q17.8846 714.269 20.1444 710.959 Z\" fill=\"#000000\" fill-rule=\"evenodd\" fill-opacity=\"1\" /><path clip-path=\"url(#clip300)\" d=\"M46.0847 685.082 Q46.0847 692.18 47.7079 694.917 Q49.3312 697.654 53.2461 697.654 Q56.3653 697.654 58.2114 695.617 Q60.0256 693.548 60.0256 690.015 Q60.0256 685.146 56.5881 682.217 Q53.1188 679.257 47.3897 679.257 L46.0847 679.257 L46.0847 685.082 M43.6657 673.401 L64.0042 673.401 L64.0042 679.257 L58.5933 679.257 Q61.8398 681.263 63.3994 684.254 Q64.9272 687.246 64.9272 691.575 Q64.9272 697.05 61.8716 700.296 Q58.7843 703.511 53.6281 703.511 Q47.6125 703.511 44.5569 699.5 Q41.5014 695.458 41.5014 687.469 L41.5014 679.257 L40.9285 679.257 Q36.8862 679.257 34.6901 681.931 Q32.4621 684.573 32.4621 689.379 Q32.4621 692.434 33.1941 695.331 Q33.9262 698.227 35.3903 700.901 L29.9795 700.901 Q28.7381 697.686 28.1334 694.662 Q27.4968 691.639 27.4968 688.774 Q27.4968 681.04 31.5072 677.22 Q35.5176 673.401 43.6657 673.401 Z\" fill=\"#000000\" fill-rule=\"evenodd\" fill-opacity=\"1\" /><polyline clip-path=\"url(#clip302)\" style=\"stroke:#009af9; stroke-linecap:round; stroke-linejoin:round; stroke-width:8; stroke-opacity:1; fill:none\" points=\"\n  278.207,1384.24 278.207,1384.24 \n  \n  \n  \n  \n  \n  \n  \n  \n  \n  \n  \n  \n  \n  \n  \n  \n  \n  \n  \n  \n  \n  \n  \n  \n  \n  \n  \n  \n  \n  \n  \n  \n  \n  \n  \n  \n  \n  \n  \n  \n  \n  \n  \n  \n  \n  \n  \n  \n  \n  \n  \n  \n  \n  \n  \n  \n  \n  \n  \n  \n  \n  \n  \n  \n  \n  \n  \n  \n  \n  \n  \n  \n  \n  \n  \n  \n  \n  \n  \n  \n  \n  \n  \n  \n  \n  \n  \n  \n  \n  \n  \n  \n  \n  \n  \n  \n  \n  \n  \n  \n  \n  \n  \n  \n  \n  \n  \n  \n  \n  \n  \n  \n  \n  \n  \n  \n  \n  \n  \n  \n  \n  \n  \n  \n  \n  \n  \n  \n  \n  \n  \n  \n  \n  \n  \n  \n  \n  \n  \n  \n  \n  \n  \n  \n  \n  \n  \n  \n  \n  \n  \n  \n  \n  \n  \n  \n  \n  \n  \n  \n  \n  \n  \n  \n  \n  \n  \n  \n  \n  \n  \n  \n  \n  \n  \n  \n  \n  \n  \n  \n  \n  \n  \n  \n  \n  \n  \n  \n  \n  \n  \n  \n  \n  \n  \n  \n  \n  \n  \n  \n  \n  \n  \n  \n  \n  \n  \n  \n  \n  \n  \n  \n  \n  \n  \n  \n  \n  \n  \n  \n  \n  \n  \n  \n  \n  \n  \n  \n  \n  \n  \n  \n  \n  \n  \n  \n  \n  \n  \n  \n  \n  \n  \n  \n  \n  \n  \n  \n  \n  \n  \n  \n  \n  \n  \n  \n  \n  \n  \n  \n  \n  \n  \n  \n  \n  \n  \n  \n  \n  \n  \n  \n  \n  \n  \n  \n  \n  \n  \n  \n  \n  \n  \n  \n  \n  \n  \n  \n  \n  \n  \n  \n  \n  \n  \n  \n  \n  \n  \n  \n  \n  \n  \n  \n  \n  \n  \n  \n  \n  \n  \n  \n  \n  \n  \n  \n  \n  \n  \n  \n  \n  \n  \n  \n  \n  \n  \n  \n  \n  \n  \n  \n  \n  \n  \n  \n  \n  \n  \n  \n  \n  \n  \n  \n  \n  \n  \n  \n  \n  \n  \n  \n  \n  \n  \n  \n  \n  \n  \n  \n  \n  \n  \n  \n  \n  \n  \n  \n  \n  \n  \n  \n  \n  \n  \n  \n  \n  \n  \n  \n  \n  \n  \n  \n  \n  \n  \n  \n  \n  \n  \n  \n  \n  \n  \n  \n  \n  \n  \n  \n  \n  \n  \n  \n  \n  \n  \n  \n  \n  \n  \n  \n  \n  \n  \n  \n  \n  \n  \n  \n  \n  \n  \n  \n  \n  \n  \n  \n  \n  \n  \n  \n  \n  \n  \n  \n  \n  \n  \n  \n  \n  \n  \n  \n  \n  \n  \n  \n  \n  \n  \n  \n  \n  \n  \n  \n  \n  \n  \n  \n  \n  \n  \n  \n  \n  \n  \n  \n  \n  \n  \n  \n  \n  \n  \n  \n  \n  \n  \n  \n  \n  \n  \n  \n  \n  \n  \n  \n  \n  \n  \n  \n  \n  \n  \n  \n  \n  \n  \n  \n  \n  \n  \n  \n  \n  \n  \n  \n  \n  \n  \n  \n  \n  \n  \n  \n  \n  \n  \n  \n  \n  \n  \n  \n  \n  \n  \n  \n  \n  \n  \n  \n  \n  \n  \n  \n  \n  \n  \n  \n  \n  \n  \n  \n  \n  \n  \n  \n  \n  \n  \n  \n  \n  \n  \n  \n  \n  \n  \n  \n  \n  \n  \n  \n  \n  \n  \n  \n  \n  \n  \n  \n  \n  \n  \n  \n  \n  \n  \n  \n  \n  \n  \n  \n  \n  \n  \n  \n  \n  \n  \n  \n  \n  \n  \n  \n  \n  \n  \n  \n  \n  \n  \n  \n  \n  \n  \n  \n  \n  \n  \n  \n  \n  \n  \n  \n  \n  \n  \n  \n  \n  \n  \n  \n  \n  \n  \n  \n  \n  \n  \n  \n  \n  \n  \n  \n  \n  \n  \n  \n  \n  \n  \n  \n  \n  \n  \n  \n  \n  \n  \n  \n  \n  \n  \n  \n  \n  \n  \n  \n  \n  \n  \n  \n  \n  \n  \n  \n  \n  \n  \n  \n  \n  \n  \n  \n  \n  \n  \n  \n  \n  \n  \n  \n  \n  \n  \n  \n  \n  \n  \n  \n  \n  \n  \n  \n  \n  \n  \n  \n  \n  \n  \n  \n  \n  \n  \n  \n  \n  \n  \n  \n  \n  \n  \n  \n  \n  \n  \n  \n  \n  \n  \n  \n  \n  \n  \n  \n  \n  \n  \n  \n  \n  \n  \n  \n  \n  \n  \n  \n  \n  \n  \n  \n  \n  \n  \n  \n  \n  \n  \n  \n  \n  \n  \n  \n  \n  \n  \n  \n  \n  \n  \n  \n  \n  \n  \n  \n  \n  \n  \n  \n  \n  \n  \n  \n  \n  \n  \n  \n  \n  \n  \n  \n  \n  \n  \n  \n  \n  \n  \n  \n  \n  \n  \n  \n  \n  \n  \n  \n  \n  \n  \n  \n  \n  \n  \n  \n  \n  \n  \n  \n  \n  \n  \n  \n  \n  \n  \n  \n  \n  \n  \n  \n  \n  \n  \n  \n  \n  \n  \n  \n  \n  \n  \n  \n  \n  \n  \n  \n  \n  \n  \n  \n  \n  \n  \n  \n  \n  \n  \n  \n  \n  \n  \n  \n  \n  \n  \n  \n  \n  \n  \n  \n  \n  \n  \n  \n  \n  \n  \n  \n  \n  \n  \n  \n  \n  \n  \n  \n  \n  \n  \n  \n  \n  \n  \n  \n  \n  \n  \n  \n  \n  \n  \n  \n  \n  \n  \n  \n  \n  \n  \n  \n  \n  \n  \n  \n  \n  \n  \n  \n  \n  \n  \n  \n  \n  \n  \n  \n  \n  \n  \n  \n  \n  \n  \n  \n  \n  \n  \n  \n  \n  \n  \n  \n  \n  \n  \n  \n  \n  \n  \n  \n  \n  \n  \n  \n  \n  \n  \n  \n  \n  \n  \n  \n  \n  \n  \n  \n  \n  \n  \n  \n  \n  \n  \n  \n  \n  \n  \n  \n  \n  \n  \n  \n  \n  \n  \n  \n  \n  \n  \n  \n  \n  \n  \n  \n  \n  \n  \n  \n  \n  \n  \n  \n  \n  \n  \n  \n  \n  \n  \n  \n  \n  \n  \n  \n  \n  \n  \n  \n  \n  \n  \n  \n  \n  \n  \n  \n  \n  \n  \n  \n  \n  \n  \n  \n  \n  \n  \n  \n  \n  \n  \n  \n  \n  \n  \n  \n  \n  \n  \n  \n  \n  \n  \n  \n  \n  \n  \n  \n  \n  \n  \n  \n  \n  \n  \n  \n  \n  \n  \n  \n  \n  \n  \n  \n  \n  \n  \n  \n  \n  \n  \n  \n  \n  \n  \n  \n  \n  \n  \n  \n  \n  \n  \n  \n  \n  \n  \n  \n  \n  \n  \n  \n  \n  \n  \n  \n  \n  \n  \n  \n  \n  \n  \n  \n  \n  \n  \n  \n  \n  \n  \n  \n  \n  \n  \n  \n  \n  \n  \n  \n  \n  \n  \n  \n  \n  \n  \n  \n  \n  \n  \n  \n  \n  \n  \n  \n  \n  \n  \n  \n  \n  \n  \n  \n  \n  \n  \n  \n  \n  \n  \n  \n  \n  \n  \n  \n  \n  \n  \n  \n  \n  \n  \n  \n  \n  \n  \n  \n  \n  \n  \n  \n  \n  \n  \n  \n  \n  \n  \n  \n  \n  \n  \n  \n  \n  \n  \n  \n  \n  \n  \n  \n  \n  \n  \n  \n  \n  \n  \n  \n  \n  \n  \n  \n  \n  \n  \n  \n  \n  \n  \n  \n  \n  \n  \n  \n  \n  \n  \n  \n  \n  \n  \n  \n  \n  \n  \n  \n  \n  \n  \n  \n  \n  \n  \n  \n  \n  \n  \n  \n  \n  \n  \n  \n  \n  \n  \n  \n  \n  \n  \n  \n  \n  \n  \n  \n  \n  \n  \n  \n  \n  \n  \n  \n  \n  \n  \n  \n  \n  \n  \n  \n  \n  \n  \n  \n  \n  \n  \n  \n  \n  \n  \n  \n  \n  \n  \n  \n  \n  \n  \n  \n  \n  \n  \n  \n  \n  \n  \n  \n  \n  \n  \n  \n  \n  \n  \n  \n  \n  \n  \n  \n  \n  \n  \n  \n  \n  \n  \n  \n  \n  \n  \n  \n  \n  \n  \n  \n  \n  \n  \n  \n  \n  \n  \n  \n  \n  \n  \n  \n  \n  \n  \n  \n  \n  \n  \n  \n  \n  \n  \n  \n  \n  \n  \n  \n  \n  \n  \n  \n  \n  \n  \n  \n  \n  \n  \n  \n  \n  \n  \n  \n  \n  \n  \n  \n  \n  \n  \n  \n  \n  \n  \n  \n  \n  \n  \n  \n  \n  \n  \n  \n  \n  \n  \n  \n  \n  \n  \n  \n  \n  \n  \n  \n  \n  \n  \n  \n  \n  \n  \n  \n  \n  \n  \n  \n  \n  \n  \n  \n  \n  \n  \n  \n  \n  \n  \n  \n  \n  \n  \n  \n  \n  \n  \n  \n  \n  \n  \n  \n  \n  \n  \n  \n  \n  \n  \n  \n  \n  \n  \n  \n  \n  \n  \n  \n  \n  \n  \n  \n  \n  \n  \n  \n  \n  \n  \n  \n  \n  \n  \n  \n  \n  \n  \n  \n  \n  \n  \n  \n  \n  \n  \n  \n  \n  \n  \n  \n  \n  \n  \n  \n  \n  \n  \n  \n  \n  \n  \n  \n  \n  \n  \n  \n  \n  \n  \n  \n  \n  \n  \n  \n  \n  \n  \n  \n  \n  \n  \n  \n  \n  \n  \n  \n  \n  \n  \n  \n  \n  \n  \n  \n  \n  \n  \n  \n  \n  \n  \n  \n  \n  \n  \n  \n  \n  \n  \n  \n  \n  \n  \n  \n  \n  \n  \n  \n  \n  \n  \n  \n  \n  \n  \n  \n  \n  \n  \n  \n  \n  \n  \n  \n  \n  \n  \n  \n  \n  \n  \n  \n  \n  \n  \n  \n  \n  \n  \n  \n  \n  \n  \n  \n  \n  \n  \n  \n  \n  \n  \n  \n  \n  \n  \n  \n  \n  \n  \n  \n  \n  \n  \n  \n  \n  \n  \n  \n  \n  \n  \n  \n  \n  \n  \n  \n  \n  \n  \n  \n  \n  \n  \n  \n  \n  \n  \n  \n  \n  \n  \n  \n  \n  \n  \n  \n  \n  \n  \n  \n  \n  \n  \n  \n  \n  \n  \n  \n  \n  \n  \n  \n  \n  \n  \n  \n  \n  \n  \n  \n  \n  \n  \n  \n  \n  \n  \n  \n  \n  \n  \n  \n  \n  \n  \n  \n  \n  \n  \n  \n  \n  \n  \n  \n  \n  \n  \n  \n  \n  \n  \n  \n  \n  \n  \n  \n  \n  \n  \n  \n  \n  \n  \n  \n  \n  \n  \n  \n  \n  \n  \n  \n  \n  \n  \n  \n  \n  \n  \n  \n  \n  \n  \n  \n  \n  \n  \n  \n  \n  \n  \n  \n  \n  \n  \n  \n  \n  \n  \n  \n  \n  \n  \n  \n  \n  \n  \n  \n  \n  \n  \n  \n  \n  \n  \n  \n  \n  \n  \n  \n  \n  \n  \n  \n  \n  \n  \n  \n  \n  \n  \n  \n  \n  \n  \n  \n  \n  \n  \n  \n  \n  \n  \n  \n  \n  \n  \n  \n  \n  \n  \n  \n  \n  \n  \n  \n  \n  \n  \n  \n  \n  \n  \n  \n  \n  \n  \n  \n  \n  \n  \n  \n  \n  \n  \n  \n  \n  \n  \n  \n  \n  \n  \n  \n  \n  \n  \n  \n  \n  \n  \n  \n  \n  \n  \n  \n  \n  \n  \n  \n  \n  \n  \n  \n  \n  \n  \n  \n  \n  \n  \n  \n  \n  \n  \n  \n  \n  \n  \n  \n  \n  \n  \n  \n  \n  \n  \n  \n  \n  \n  \n  \n  \n  \n  \n  \n  \n  \n  \n  \n  \n  \n  \n  \n  \n  \n  \n  \n  \n  \n  \n  \n  \n  \n  \n  \n  \n  \n  \n  \n  \n  \n  \n  \n  \n  \n  \n  \n  \n  \n  \n  \n  \n  \n  \n  \n  \n  \n  \n  \n  \n  \n  \n  \n  \n  \n  \n  \n  \n  \n  \n  \n  \n  \n  \n  \n  \n  \n  \n  \n  \n  \n  \n  \n  \n  \n  \n  \n  \n  \n  \n  \n  \n  \n  \n  \n  \n  \n  \n  \n  \n  \n  \n  \n  \n  \n  \n  \n  \n  \n  \n  \n  \n  \n  \n  \n  \n  \n  \n  \n  \n  \n  \n  \n  \n  \n  \n  \n  \n  \n  \n  \n  \n  \n  \n  \n  \n  \n  \n  \n  \n  \n  \n  \n  \n  \n  \n  \n  \n  \n  \n  \n  \n  \n  \n  \n  \n  \n  \n  \n  \n  \n  \n  \n  \n  \n  \n  \n  \n  \n  \n  \n  \n  \n  \n  \n  \n  \n  \n  \n  \n  \n  \n  \n  \n  \n  \n  \n  \n  \n  \n  \n  \n  \n  \n  \n  \n  \n  \n  \n  \n  \n  \n  \n  \n  \n  \n  \n  \n  \n  \n  \n  \n  \n  \n  \n  \n  \n  \n  \n  \n  \n  \n  \n  \n  \n  \n  \n  \n  \n  \n  \n  \n  \n  \n  \n  \n  \n  \n  \n  \n  \n  \n  \n  \n  \n  \n  \n  \n  \n  \n  \n  \n  \n  \n  \n  \n  \n  \n  \n  \n  \n  \n  \n  \n  \n  \n  \n  \n  \n  \n  \n  \n  \n  \n  \n  \n  \n  \n  \n  \n  \n  \n  \n  \n  \n  \n  \n  \n  \n  \n  \n  \n  \n  \n  \n  \n  \n  \n  \n  \n  \n  \n  \n  \n  \n  \n  \n  \n  \n  \n  \n  \n  \n  \n  \n  \n  \n  \n  \n  \n  \n  \n  \n  \n  \n  \n  \n  \n  \n  \n  \n  \n  \n  \n  \n  \n  \n  \n  \n  \n  \n  \n  \n  \n  \n  \n  \n  \n  \n  \n  \n  \n  \n  \n  \n  \n  \n  \n  \n  \n  \n  \n  \n  \n  \n  \n  \n  \n  \n  \n  \n  \n  \n  \n  \n  \n  \n  \n  \n  \n  \n  \n  \n  \n  \n  \n  \n  \n  \n  \n  \n  \n  \n  \n  \n  \n  \n  \n  \n  \n  \n  \n  \n  \n  \n  \n  \n  \n  \n  \n  \n  \n  \n  \n  \n  \n  \n  \n  \n  \n  \n  \n  \n  \n  \n  \n  \n  \n  \n  \n  \n  \n  \n  \n  \n  \n  \n  \n  \n  \n  \n  \n  \n  \n  \n  \n  \n  \n  \n  \n  \n  \n  \n  \n  \n  \n  \n  \n  \n  \n  \n  \n  \n  \n  \n  \n  \n  \n  \n  \n  \n  \n  \n  \n  \n  \n  \n  \n  \n  \n  \n  \n  \n  \n  \n  \n  \n  \n  \n  \n  \n  \n  \n  \n  \n  \n  \n  \n  \n  \n  \n  \n  \n  \n  \n  \n  \n  \n  \n  \n  \n  \n  \n  \n  \n  \n  \n  \n  \n  \n  \n  \n  \n  \n  \n  \n  \n  \n  \n  \n  \n  \n  \n  \n  \n  \n  \n  \n  \n  \n  \n  \n  \n  \n  \n  \n  \n  \n  \n  \n  \n  \n  \n  \n  \n  \n  \n  \n  \n  \n  \n  \n  \n  \n  \n  \n  \n  \n  \n  \n  \n  \n  \n  \n  \n  \n  \n  \n  \n  \n  \n  \n  \n  \n  \n  \n  \n  \n  \n  \n  \n  \n  \n  \n  \n  \n  \n  \n  \n  \n  \n  \n  \n  \n  \n  \n  \n  \n  \n  \n  \n  \n  \n  \n  \n  \n  \n  \n  \n  \n  \n  \n  \n  \n  \n  \n  \n  \n  \n  \n  \n  \n  \n  \n  \n  \n  \n  \n  \n  \n  \n  \n  \n  \n  \n  \n  \n  \n  \n  \n  \n  \n  \n  \n  \n  \n  \n  \n  \n  \n  \n  \n  \n  \n  \n  \n  \n  \n  \n  \n  \n  \n  \n  \n  \n  \n  \n  \n  \n  \n  \n  \n  \n  \n  \n  \n  \n  \n  \n  \n  \n  \n  \n  \n  \n  \n  \n  \n  \n  \n  \n  \n  \n  \n  \n  \n  \n  \n  \n  \n  \n  \n  \n  \n  \n  \n  \n  \n  \n  \n  \n  \n  \n  \n  \n  \n  \n  \n  \n  \n  \n  \n  \n  \n  \n  \n  \n  \n  \n  \n  \n  \n  \n  \n  \n  \n  \n  \n  \n  \n  \n  \n  \n  \n  \n  \n  \n  \n  \n  \n  \n  \n  \n  \n  \n  \n  \n  \n  \n  \n  \n  \n  \n  \n  \n  \n  \n  \n  \n  \n  \n  \n  \n  \n  \n  \n  \n  \n  \n  \n  \n  \n  \n  \n  \n  \n  \n  \n  \n  \n  \n  \n  \n  \n  \n  \n  \n  \n  \n  \n  \n  \n  \n  \n  \n  \n  \n  \n  \n  \n  \n  \n  \n  \n  \n  \n  \n  \n  \n  \n  \n  \n  \n  \n  \n  \n  \n  \n  \n  \n  \n  \n  \n  \n  \n  \n  \n  \n  \n  \n  \n  \n  \n  \n  \n  \n  \n  \n  \n  \n  \n  \n  \n  \n  \n  \n  \n  \n  \n  \n  \n  \n  \n  \n  \n  \n  \n  \n  \n  \n  \n  \n  \n  \n  \n  \n  \n  \n  \n  \n  \n  \n  \n  \n  \n  \n  \n  \n  \n  \n  \n  \n  \n  \n  \n  \n  \n  \n  \n  \n  \n  \n  \n  \n  \n  \n  \n  \n  \n  \n  \n  \n  \n  \n  \n  \n  \n  \n  \n  \n  \n  \n  \n  \n  \n  \n  \n  \n  \n  \n  \n  \n  \n  \n  \n  \n  \n  \n  \n  \n  \n  \n  \n  \n  \n  \n  \n  \n  \n  \n  \n  \n  \n  \n  \n  \n  \n  \n  \n  \n  \n  \n  \n  \n  \n  \n  \n  \n  \n  \n  \n  \n  \n  \n  \n  \n  \n  \n  \n  \n  \n  \n  \n  \n  \n  \n  \n  \n  \n  \n  \n  \n  \n  \n  \n  \n  \n  \n  \n  \n  \n  \n  \n  \n  \n  \n  \n  \n  \n  \n  \n  \n  \n  \n  \n  \n  \n  \n  \n  \n  \n  \n  \n  \n  \n  \n  \n  \n  \n  \n  \n  \n  \n  \n  \n  \n  \n  \n  \n  \n  \n  \n  \n  \n  \n  \n  \n  \n  \n  \n  \n  \n  \n  \n  \n  \n  \n  \n  \n  \n  \n  \n  \n  \n  \n  \n  \n  \n  \n  \n  \n  \n  \n  \n  \n  \n  \n  \n  \n  \n  \n  \n  \n  \n  \n  \n  \n  \n  \n  \n  \n  \n  \n  \n  \n  \n  \n  \n  \n  \n  \n  \n  \n  \n  \n  \n  \n  \n  \n  \n  \n  \n  \n  \n  \n  \n  \n  \"/>\n<path clip-path=\"url(#clip300)\" d=\"\nM1991.94 196.789 L2281.59 196.789 L2281.59 93.1086 L1991.94 93.1086  Z\n  \" fill=\"#ffffff\" fill-rule=\"evenodd\" fill-opacity=\"1\"/>\n<polyline clip-path=\"url(#clip300)\" style=\"stroke:#000000; stroke-linecap:round; stroke-linejoin:round; stroke-width:4; stroke-opacity:1; fill:none\" points=\"\n  1991.94,196.789 2281.59,196.789 2281.59,93.1086 1991.94,93.1086 1991.94,196.789 \n  \"/>\n<polyline clip-path=\"url(#clip300)\" style=\"stroke:#009af9; stroke-linecap:round; stroke-linejoin:round; stroke-width:4; stroke-opacity:1; fill:none\" points=\"\n  2015.66,144.949 2157.99,144.949 \n  \"/>\n<path clip-path=\"url(#clip300)\" d=\"M2195.56 164.636 Q2193.75 169.266 2192.04 170.678 Q2190.33 172.09 2187.46 172.09 L2184.05 172.09 L2184.05 168.525 L2186.55 168.525 Q2188.31 168.525 2189.29 167.692 Q2190.26 166.858 2191.44 163.756 L2192.2 161.812 L2181.72 136.303 L2186.23 136.303 L2194.33 156.581 L2202.43 136.303 L2206.95 136.303 L2195.56 164.636 Z\" fill=\"#000000\" fill-rule=\"evenodd\" fill-opacity=\"1\" /><path clip-path=\"url(#clip300)\" d=\"M2214.24 158.293 L2221.88 158.293 L2221.88 131.928 L2213.57 133.595 L2213.57 129.335 L2221.83 127.669 L2226.51 127.669 L2226.51 158.293 L2234.15 158.293 L2234.15 162.229 L2214.24 162.229 L2214.24 158.293 Z\" fill=\"#000000\" fill-rule=\"evenodd\" fill-opacity=\"1\" /></svg>\n"
     },
     "execution_count": 348,
     "metadata": {},
     "output_type": "execute_result"
    }
   ],
   "source": [
    "plt = plot([state[\"x\"]], [state[\"Ca\"]], linewidth=2, xlabel=\"Δx\", ylabel=\"ΔCa\")\n",
    "for i in 1:30000\n",
    "    state = next_state(θ, state)\n",
    "    push!(plt, state[\"x\"], state[\"Ca\"])\n",
    "end\n",
    "plt"
   ]
  },
  {
   "cell_type": "code",
   "execution_count": null,
   "metadata": {},
   "outputs": [],
   "source": []
  }
 ],
 "metadata": {
  "kernelspec": {
   "display_name": "Julia 1.7.3",
   "language": "julia",
   "name": "julia-1.7"
  },
  "language_info": {
   "file_extension": ".jl",
   "mimetype": "application/julia",
   "name": "julia",
   "version": "1.7.3"
  },
  "orig_nbformat": 4
 },
 "nbformat": 4,
 "nbformat_minor": 2
}
